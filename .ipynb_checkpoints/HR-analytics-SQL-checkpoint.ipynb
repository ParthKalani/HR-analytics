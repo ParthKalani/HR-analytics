{
 "cells": [
  {
   "cell_type": "markdown",
   "id": "10af84b2",
   "metadata": {},
   "source": [
    "## Capstone 1 - Part 2\n",
    "\n",
    "In the first part of the capstone, we focused on Data Retrieval, Data Preprocessing, Feature Engineering and Exploratory Data Analysis using Python & its libraries. Now we are going to shift gears and gain insights into our HR Analytics dataset using SQL."
   ]
  },
  {
   "cell_type": "markdown",
   "id": "7e0ae0b5",
   "metadata": {},
   "source": [
    "## TODO: Make use of SQL to do the following:\n",
    "\n",
    "### Create a SQLITE3 DB using the CSV file (2 pts). Please refer this [link](https://www.linkedin.com/pulse/accessing-sqlite3-database-from-jupyter-notebook-using-varun-lobo/) and this [link](https://www.geeksforgeeks.org/how-to-import-csv-file-in-sqlite-database-using-python/) to know more.\n",
    "### Calculate the Attrition Rate and summarize attrition (3 pts) by:\n",
    "1. Gender\n",
    "2. Department\n",
    "3. Age\n",
    "4. Average monthly income by job level\n",
    "5. Years at company\n",
    "\n",
    "### Continue using SQL to explore main reasons for attrition (3 pts), For example:\n",
    "1. Why do more people over 50 years old leave the company than people who aged 40-50?\n",
    "2. Why do people with higher pay still leave the company?\n",
    "3. Which factors drive employees who work at company less than 5 years to leave?\n",
    "\n",
    "### Effective Communication (2 pts)\n",
    "1. Please make use of markdown cells to communicate your thought process, why did you think of performing a step? what was the observation from the query? etc.\n",
    "2. The code should be commented so that it is readable for the reviewer.\n",
    "\n",
    "### Grading and Important Instructions\n",
    "1. Each of the above steps are mandatory and should be completed in good faith\n",
    "2. Make sure before submitting that the code is in fully working condition\n",
    "3. It is fine to make use of ChatGPT, stackoverflow type resources, just provide the reference links from where you got it\n",
    "4. Debugging is an art, if you find yourself stuck with errors, take help of stackoverflow and ChatGPT to resolve the issue and if it's still unresolved, reach out to me for help.\n",
    "5. You need to score atleast 7/10 to pass the project, anything less than that will be marked required, needing resubmission.\n",
    "6. Feedback will be provided on 3 levels (Awesome, Suggestion, & Required). Required changes are mandatory to be made.\n",
    "7. For submission, please upload the project on github and share the link to the file with us through LMS."
   ]
  },
  {
   "cell_type": "code",
   "execution_count": null,
   "id": "a8f8bec4",
   "metadata": {},
   "outputs": [],
   "source": [
    "import sqlite3\n",
    "import pandas as pd\n",
    "\n",
    "\n",
    "df=pd.read_csv('./dataset/WA_Fn-UseC_-HR-Employee-Attrition.csv')"
   ]
  },
  {
   "cell_type": "code",
   "execution_count": null,
   "id": "0dfaabce",
   "metadata": {},
   "outputs": [],
   "source": [
    "conn=sqlite3.connect('mytable.db')"
   ]
  },
  {
   "cell_type": "code",
   "execution_count": null,
   "id": "cf7f85de",
   "metadata": {},
   "outputs": [],
   "source": [
    "df.to_sql(name=\"employee\",con=conn,if_exists='replace',index=False)\n",
    "conn.comit()"
   ]
  },
  {
   "cell_type": "code",
   "execution_count": null,
   "id": "fcef925d",
   "metadata": {},
   "outputs": [],
   "source": [
    "%load_ext sql\n",
    "%sql sqlite:///mytable.db"
   ]
  },
  {
   "cell_type": "code",
   "execution_count": null,
   "id": "f926ebcf",
   "metadata": {},
   "outputs": [],
   "source": [
    "%%sql\n",
    "\n",
    "select * from employee where Age>35 AND EducationField = 'Medical'"
   ]
  },
  {
   "cell_type": "code",
   "execution_count": null,
   "id": "fa13d5fc",
   "metadata": {},
   "outputs": [],
   "source": [
    "import csv\n",
    "import sqlite3\n",
    "\n",
    "\n",
    "try:\n",
    "\n",
    "    # Import csv and extract data\n",
    "    with open('student_info.csv', 'r') as fin:\n",
    "        dr = csv.DictReader(fin)\n",
    "        student_info = [(i['NAME'], i['AGE']) for i in dr]\n",
    "        print(student_info)\n",
    "\n",
    "    # Connect to SQLite\n",
    "    sqliteConnection = sqlite3.connect('sql.db')\n",
    "    cursor = sqliteConnection.cursor()\n",
    "\n",
    "    # Create student table\n",
    "    cursor.execute('create table student(name varchar2(10), age int);')\n",
    "\n",
    "    # Insert data into table\n",
    "    cursor.executemany(\n",
    "        \"insert into student (name, age) VALUES (?, ?);\", student_info)\n",
    "\n",
    "    # Show student table\n",
    "    cursor.execute('select * from student;')\n",
    "\n",
    "    # View result\n",
    "    result = cursor.fetchall()\n",
    "    print(result)\n",
    "\n",
    "    # Commit work and close connection\n",
    "    sqliteConnection.commit()\n",
    "    cursor.close()\n",
    "\n",
    "except sqlite3.Error as error:\n",
    "    print('Error occurred - ', error)\n",
    "\n",
    "finally:\n",
    "    if sqliteConnection:\n",
    "        sqliteConnection.close()\n",
    "        print('SQLite Connection closed')"
   ]
  }
 ],
 "metadata": {
  "kernelspec": {
   "display_name": "Python 3 (ipykernel)",
   "language": "python",
   "name": "python3"
  },
  "language_info": {
   "codemirror_mode": {
    "name": "ipython",
    "version": 3
   },
   "file_extension": ".py",
   "mimetype": "text/x-python",
   "name": "python",
   "nbconvert_exporter": "python",
   "pygments_lexer": "ipython3",
   "version": "3.9.13"
  }
 },
 "nbformat": 4,
 "nbformat_minor": 5
}
