{
 "cells": [
  {
   "cell_type": "markdown",
   "id": "10af84b2",
   "metadata": {},
   "source": [
    "## Capstone 1 - Part 1"
   ]
  },
  {
   "cell_type": "markdown",
   "id": "7e0ae0b5",
   "metadata": {},
   "source": [
    "### Dataset: Download CSV file from [here](https://drive.google.com/file/d/1LfquyGkEO45x35q8yvYzke8lswCfBu89/view?usp=sharing)\n",
    "\n",
    "### Context & Problem statement:\n",
    "\n",
    "This is a fictional data set that contains atmost 30 features of categorical and discreet data. These data are kind of both numerical and text values which help in analysing the employee data from hiring to firing and on boarding to attrition. Dive into current available HR metrics to reduce the attrition rate and improve employee performance. Employee attrition has long been a significant worry for organizations due to the substantial investments of time, money, and effort in training new employees. When an employee departs, it results in overall losses for the company, including the cost of replacing and retraining, as well as disruptions in workflow. Moreover, attrition can erode trust among remaining employees, creating additional management challenges.\n",
    "\n",
    "The HR Attrition dataset, albeit fictional, serves the purpose of identifying key factors that could play a pivotal role in determining which employees are more likely to leave the company and who is likely to stay. In this capstone, we delve into a thorough analysis of these influential factors and employ predictive modeling techniques to gain a deeper understanding, ultimately enabling us to make accurate predictions regarding employee attrition.\n",
    "\n",
    "### Business use case:\n",
    "\n",
    "1. Brief overview of attrition within the organization\n",
    "2. Explore the main factors that lead to employee attrition\n",
    "3. Propose relevant contributors to Performance Ratings and calculate their correlations\n",
    "\n",
    "### Goals/ Metrics:\n",
    "1. Identify top reasons for attrition and recommend further action steps to improve\n",
    "2. Point out key factors that drive employee performance\n",
    "\n",
    "## TODO: Please make use of Python, Pandas, Numpy, Matplotlib and relevant libraries to do the following:\n",
    "\n",
    "### Data Retrieval (1 pt)\n",
    "1. Extracting the dataset from the source (e.g., CSV file)\n",
    "2. Exploring the dataset structure, features, and target variable (attrition)\n",
    "3. Understanding the context and significance of each feature in relation to employee attrition\n",
    "\n",
    "### Data preprocessing (2 pts)\n",
    "1. Cleaning the dataset to handle missing values, duplicates, and outliers\n",
    "2. Encoding categorical variables and transforming data types as necessary\n",
    "\n",
    "### Feature Engineering & EDA (3 pts)\n",
    "1. Feature engineering to create new variables (e.g., employee tenure, performance scores) and do Exploratory Data Analysis (EDA)\n",
    "2. Analyzing factors contributing to employee attrition (e.g., age, job role, salary, work environment)\n",
    "3. Visualizing attrition rates across different demographic and employment-related variables\n",
    "4. Identifying correlations and patterns in the data to understand attrition drivers\n",
    "5. Make use of 1-d and 2-d explorations to know your data better.\n",
    "\n",
    "### Effective Communication (2 pts)\n",
    "1. Please make use of markdown cells to communicate your thought process, why did you think of performing a step? what was the observation from the visualization? etc.\n",
    "2. Make sure the plots are correctly labelled.\n",
    "3. The code should be commented so that it is readable for the reviewer.\n",
    "\n",
    "\n",
    "### Grading and Important Instructions\n",
    "1. Each of the above steps are mandatory and should be completed in good faith\n",
    "2. Make sure before submitting that the code is in fully working condition\n",
    "3. It is fine to make use of ChatGPT, stackoverflow type resources, just provide the reference links from where you got it\n",
    "4. Debugging is an art, if you find yourself stuck with errors, take help of stackoverflow and ChatGPT to resolve the issue and if it's still unresolved, reach out to me for help.\n",
    "5. You need to score atleast 7/10 to pass the project, anything less than that will be marked required, needing resubmission.\n",
    "6. Feedback will be provided on 3 levels (Awesome, Suggestion, & Required). Required changes are mandatory to be made.\n",
    "7. For submission, please upload the project on github and share the link to the file with us through LMS."
   ]
  },
  {
   "cell_type": "code",
   "execution_count": null,
   "id": "1fd681f4",
   "metadata": {},
   "outputs": [],
   "source": []
  }
 ],
 "metadata": {
  "kernelspec": {
   "display_name": "Python 3 (ipykernel)",
   "language": "python",
   "name": "python3"
  },
  "language_info": {
   "codemirror_mode": {
    "name": "ipython",
    "version": 3
   },
   "file_extension": ".py",
   "mimetype": "text/x-python",
   "name": "python",
   "nbconvert_exporter": "python",
   "pygments_lexer": "ipython3",
   "version": "3.9.13"
  }
 },
 "nbformat": 4,
 "nbformat_minor": 5
}
